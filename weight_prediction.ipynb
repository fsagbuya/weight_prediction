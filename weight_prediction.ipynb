{
 "cells": [
  {
   "cell_type": "code",
   "execution_count": 1,
   "metadata": {},
   "outputs": [],
   "source": [
    "import pandas as pd\n",
    "import numpy as np"
   ]
  },
  {
   "cell_type": "code",
   "execution_count": 2,
   "metadata": {},
   "outputs": [],
   "source": [
    "df = pd.read_csv('weight-height.csv')"
   ]
  },
  {
   "cell_type": "code",
   "execution_count": 3,
   "metadata": {},
   "outputs": [
    {
     "data": {
      "text/html": [
       "<div>\n",
       "<style scoped>\n",
       "    .dataframe tbody tr th:only-of-type {\n",
       "        vertical-align: middle;\n",
       "    }\n",
       "\n",
       "    .dataframe tbody tr th {\n",
       "        vertical-align: top;\n",
       "    }\n",
       "\n",
       "    .dataframe thead th {\n",
       "        text-align: right;\n",
       "    }\n",
       "</style>\n",
       "<table border=\"1\" class=\"dataframe\">\n",
       "  <thead>\n",
       "    <tr style=\"text-align: right;\">\n",
       "      <th></th>\n",
       "      <th>Gender</th>\n",
       "      <th>Height</th>\n",
       "      <th>Weight</th>\n",
       "    </tr>\n",
       "  </thead>\n",
       "  <tbody>\n",
       "    <tr>\n",
       "      <th>0</th>\n",
       "      <td>Male</td>\n",
       "      <td>73.847017</td>\n",
       "      <td>241.893563</td>\n",
       "    </tr>\n",
       "    <tr>\n",
       "      <th>1</th>\n",
       "      <td>Male</td>\n",
       "      <td>68.781904</td>\n",
       "      <td>162.310473</td>\n",
       "    </tr>\n",
       "    <tr>\n",
       "      <th>2</th>\n",
       "      <td>Male</td>\n",
       "      <td>74.110105</td>\n",
       "      <td>212.740856</td>\n",
       "    </tr>\n",
       "    <tr>\n",
       "      <th>3</th>\n",
       "      <td>Male</td>\n",
       "      <td>71.730978</td>\n",
       "      <td>220.042470</td>\n",
       "    </tr>\n",
       "    <tr>\n",
       "      <th>4</th>\n",
       "      <td>Male</td>\n",
       "      <td>69.881796</td>\n",
       "      <td>206.349801</td>\n",
       "    </tr>\n",
       "  </tbody>\n",
       "</table>\n",
       "</div>"
      ],
      "text/plain": [
       "  Gender     Height      Weight\n",
       "0   Male  73.847017  241.893563\n",
       "1   Male  68.781904  162.310473\n",
       "2   Male  74.110105  212.740856\n",
       "3   Male  71.730978  220.042470\n",
       "4   Male  69.881796  206.349801"
      ]
     },
     "execution_count": 3,
     "metadata": {},
     "output_type": "execute_result"
    }
   ],
   "source": [
    "df.head()"
   ]
  },
  {
   "cell_type": "code",
   "execution_count": 5,
   "metadata": {},
   "outputs": [
    {
     "data": {
      "text/html": [
       "<div>\n",
       "<style scoped>\n",
       "    .dataframe tbody tr th:only-of-type {\n",
       "        vertical-align: middle;\n",
       "    }\n",
       "\n",
       "    .dataframe tbody tr th {\n",
       "        vertical-align: top;\n",
       "    }\n",
       "\n",
       "    .dataframe thead th {\n",
       "        text-align: right;\n",
       "    }\n",
       "</style>\n",
       "<table border=\"1\" class=\"dataframe\">\n",
       "  <thead>\n",
       "    <tr style=\"text-align: right;\">\n",
       "      <th></th>\n",
       "      <th>Gender</th>\n",
       "      <th>Height</th>\n",
       "      <th>Weight</th>\n",
       "    </tr>\n",
       "  </thead>\n",
       "  <tbody>\n",
       "    <tr>\n",
       "      <th>5000</th>\n",
       "      <td>Female</td>\n",
       "      <td>58.910732</td>\n",
       "      <td>102.088326</td>\n",
       "    </tr>\n",
       "    <tr>\n",
       "      <th>5001</th>\n",
       "      <td>Female</td>\n",
       "      <td>65.230013</td>\n",
       "      <td>141.305823</td>\n",
       "    </tr>\n",
       "    <tr>\n",
       "      <th>5002</th>\n",
       "      <td>Female</td>\n",
       "      <td>63.369004</td>\n",
       "      <td>131.041403</td>\n",
       "    </tr>\n",
       "    <tr>\n",
       "      <th>5003</th>\n",
       "      <td>Female</td>\n",
       "      <td>64.479997</td>\n",
       "      <td>128.171511</td>\n",
       "    </tr>\n",
       "    <tr>\n",
       "      <th>5004</th>\n",
       "      <td>Female</td>\n",
       "      <td>61.793096</td>\n",
       "      <td>129.781407</td>\n",
       "    </tr>\n",
       "  </tbody>\n",
       "</table>\n",
       "</div>"
      ],
      "text/plain": [
       "      Gender     Height      Weight\n",
       "5000  Female  58.910732  102.088326\n",
       "5001  Female  65.230013  141.305823\n",
       "5002  Female  63.369004  131.041403\n",
       "5003  Female  64.479997  128.171511\n",
       "5004  Female  61.793096  129.781407"
      ]
     },
     "execution_count": 5,
     "metadata": {},
     "output_type": "execute_result"
    }
   ],
   "source": [
    "female_df = df[df['Gender'] == 'Female']\n",
    "female_df.head()"
   ]
  },
  {
   "cell_type": "code",
   "execution_count": 7,
   "metadata": {},
   "outputs": [],
   "source": [
    "male_df = df[df['Gender'] == 'Male']"
   ]
  },
  {
   "cell_type": "code",
   "execution_count": 8,
   "metadata": {},
   "outputs": [
    {
     "data": {
      "text/html": [
       "<div>\n",
       "<style scoped>\n",
       "    .dataframe tbody tr th:only-of-type {\n",
       "        vertical-align: middle;\n",
       "    }\n",
       "\n",
       "    .dataframe tbody tr th {\n",
       "        vertical-align: top;\n",
       "    }\n",
       "\n",
       "    .dataframe thead th {\n",
       "        text-align: right;\n",
       "    }\n",
       "</style>\n",
       "<table border=\"1\" class=\"dataframe\">\n",
       "  <thead>\n",
       "    <tr style=\"text-align: right;\">\n",
       "      <th></th>\n",
       "      <th>Gender</th>\n",
       "      <th>Height</th>\n",
       "      <th>Weight</th>\n",
       "    </tr>\n",
       "  </thead>\n",
       "  <tbody>\n",
       "    <tr>\n",
       "      <th>0</th>\n",
       "      <td>Male</td>\n",
       "      <td>73.847017</td>\n",
       "      <td>241.893563</td>\n",
       "    </tr>\n",
       "    <tr>\n",
       "      <th>1</th>\n",
       "      <td>Male</td>\n",
       "      <td>68.781904</td>\n",
       "      <td>162.310473</td>\n",
       "    </tr>\n",
       "    <tr>\n",
       "      <th>2</th>\n",
       "      <td>Male</td>\n",
       "      <td>74.110105</td>\n",
       "      <td>212.740856</td>\n",
       "    </tr>\n",
       "    <tr>\n",
       "      <th>3</th>\n",
       "      <td>Male</td>\n",
       "      <td>71.730978</td>\n",
       "      <td>220.042470</td>\n",
       "    </tr>\n",
       "    <tr>\n",
       "      <th>4</th>\n",
       "      <td>Male</td>\n",
       "      <td>69.881796</td>\n",
       "      <td>206.349801</td>\n",
       "    </tr>\n",
       "  </tbody>\n",
       "</table>\n",
       "</div>"
      ],
      "text/plain": [
       "  Gender     Height      Weight\n",
       "0   Male  73.847017  241.893563\n",
       "1   Male  68.781904  162.310473\n",
       "2   Male  74.110105  212.740856\n",
       "3   Male  71.730978  220.042470\n",
       "4   Male  69.881796  206.349801"
      ]
     },
     "execution_count": 8,
     "metadata": {},
     "output_type": "execute_result"
    }
   ],
   "source": [
    "male_df.head()"
   ]
  },
  {
   "cell_type": "code",
   "execution_count": 9,
   "metadata": {},
   "outputs": [
    {
     "data": {
      "text/plain": [
       "<AxesSubplot:ylabel='Gender'>"
      ]
     },
     "execution_count": 9,
     "metadata": {},
     "output_type": "execute_result"
    },
    {
     "data": {
      "image/png": "[encoded data removed]",
      "text/plain": [
       "<Figure size 432x288 with 1 Axes>"
      ]
     },
     "metadata": {},
     "output_type": "display_data"
    }
   ],
   "source": [
    "df.Gender.value_counts().plot(kind='pie')"
   ]
  },
  {
   "cell_type": "code",
   "execution_count": 13,
   "metadata": {},
   "outputs": [
    {
     "data": {
      "text/plain": [
       "<AxesSubplot:xlabel='Weight', ylabel='Height'>"
      ]
     },
     "execution_count": 13,
     "metadata": {},
     "output_type": "execute_result"
    },
    {
     "data": {
      "image/png": "[encoded data removed]",
      "text/plain": [
       "<Figure size 432x288 with 1 Axes>"
      ]
     },
     "metadata": {
      "needs_background": "light"
     },
     "output_type": "display_data"
    }
   ],
   "source": [
    "female_df.plot(kind='scatter', x = 'Weight', y = 'Height')"
   ]
  },
  {
   "cell_type": "code",
   "execution_count": 14,
   "metadata": {},
   "outputs": [
    {
     "data": {
      "text/plain": [
       "array([241.89356318, 162.31047252, 212.74085556, ..., 199.19540008,\n",
       "       185.90590949, 198.90301194])"
      ]
     },
     "execution_count": 14,
     "metadata": {},
     "output_type": "execute_result"
    }
   ],
   "source": [
    "y = male_df.iloc[:,2].values\n",
    "y"
   ]
  },
  {
   "cell_type": "code",
   "execution_count": 12,
   "metadata": {},
   "outputs": [
    {
     "data": {
      "text/plain": [
       "array([[73.84701702],\n",
       "       [68.78190405],\n",
       "       [74.11010539],\n",
       "       ...,\n",
       "       [67.01379497],\n",
       "       [71.55771849],\n",
       "       [70.35187988]])"
      ]
     },
     "execution_count": 12,
     "metadata": {},
     "output_type": "execute_result"
    }
   ],
   "source": [
    "x = male_df.iloc[:, 1:2].values\n",
    "x"
   ]
  },
  {
   "cell_type": "code",
   "execution_count": 15,
   "metadata": {},
   "outputs": [
    {
     "data": {
      "text/plain": [
       "numpy.ndarray"
      ]
     },
     "execution_count": 15,
     "metadata": {},
     "output_type": "execute_result"
    }
   ],
   "source": [
    "type(y)"
   ]
  },
  {
   "cell_type": "code",
   "execution_count": 16,
   "metadata": {},
   "outputs": [
    {
     "data": {
      "text/plain": [
       "pandas.core.frame.DataFrame"
      ]
     },
     "execution_count": 16,
     "metadata": {},
     "output_type": "execute_result"
    }
   ],
   "source": [
    "type(male_df)"
   ]
  },
  {
   "cell_type": "code",
   "execution_count": 19,
   "metadata": {},
   "outputs": [],
   "source": [
    "from sklearn.model_selection import train_test_split\n",
    "x_train, x_test, y_train, y_test = train_test_split(x, y, test_size=0.20)"
   ]
  },
  {
   "cell_type": "code",
   "execution_count": 25,
   "metadata": {},
   "outputs": [
    {
     "name": "stdout",
     "output_type": "stream",
     "text": [
      "Requirement already satisfied: sklearn in c:\\users\\fsagb\\anaconda3\\lib\\site-packages (0.0)\n",
      "Requirement already satisfied: scikit-learn in c:\\users\\fsagb\\anaconda3\\lib\\site-packages (from sklearn) (0.23.2)\n",
      "Requirement already satisfied: scipy>=0.19.1 in c:\\users\\fsagb\\anaconda3\\lib\\site-packages (from scikit-learn->sklearn) (1.5.2)\n",
      "Requirement already satisfied: numpy>=1.13.3 in c:\\users\\fsagb\\anaconda3\\lib\\site-packages (from scikit-learn->sklearn) (1.19.2)\n",
      "Requirement already satisfied: threadpoolctl>=2.0.0 in c:\\users\\fsagb\\anaconda3\\lib\\site-packages (from scikit-learn->sklearn) (2.1.0)\n",
      "Requirement already satisfied: joblib>=0.11 in c:\\users\\fsagb\\anaconda3\\lib\\site-packages (from scikit-learn->sklearn) (0.17.0)\n"
     ]
    }
   ],
   "source": [
    "!pip install sklearn"
   ]
  },
  {
   "cell_type": "code",
   "execution_count": 20,
   "metadata": {},
   "outputs": [],
   "source": [
    "from sklearn import linear_model"
   ]
  },
  {
   "cell_type": "code",
   "execution_count": 26,
   "metadata": {},
   "outputs": [
    {
     "data": {
      "text/plain": [
       "LinearRegression()"
      ]
     },
     "execution_count": 26,
     "metadata": {},
     "output_type": "execute_result"
    }
   ],
   "source": [
    "linear = linear_model.LinearRegression()\n",
    "linear.fit(x_train, y_train)"
   ]
  },
  {
   "cell_type": "code",
   "execution_count": 27,
   "metadata": {},
   "outputs": [],
   "source": [
    "y_pred = linear.predict(x_test)"
   ]
  },
  {
   "cell_type": "code",
   "execution_count": 28,
   "metadata": {},
   "outputs": [
    {
     "data": {
      "text/plain": [
       "array([195.65095877, 178.27676529, 175.28273539, 197.11618684,\n",
       "       188.86688307, 171.79815033, 142.19615601, 183.07606964,\n",
       "       208.0738121 , 201.60089522, 206.40830421, 175.61294558,\n",
       "       221.50618007, 202.17225425, 182.08673522, 138.05272212,\n",
       "       176.42486916, 175.19785754, 191.54398693, 172.17481923,\n",
       "       173.19787715, 192.36643503, 189.13296662, 191.52016382,\n",
       "       186.44083172, 195.75620838, 151.12123882, 184.93569936,\n",
       "       169.52346644, 195.79063037, 198.54184166, 199.79366632,\n",
       "       170.23563873, 160.67204108, 155.03838631, 193.16701452,\n",
       "       178.03901512, 220.63512275, 186.78946577, 178.53313939,\n",
       "       178.6530527 , 158.94005926, 171.21723305, 192.2616261 ,\n",
       "       187.34346819, 192.03019968, 184.62125736, 201.40418042,\n",
       "       177.24349852, 184.74748961, 184.80988151, 168.11779075,\n",
       "       216.23645972, 182.3480153 , 160.50256103, 213.78172964,\n",
       "       211.7322967 , 189.68054628, 214.02569849, 194.09049346,\n",
       "       189.6105423 , 203.85459315, 174.96353545, 200.63121559,\n",
       "       183.93109004, 193.80185535, 186.99581927, 193.72005669,\n",
       "       156.76579064, 216.68400659, 175.16358546, 206.03034461,\n",
       "       201.23917839, 153.80927086, 200.2386142 , 157.791339  ,\n",
       "       176.94029623, 224.70379108, 209.09001669, 203.9327882 ,\n",
       "       190.86825143, 188.40118939, 180.84330219, 221.33940472,\n",
       "       201.69468676, 233.07355761, 191.32644845, 198.92906396,\n",
       "       192.23285833, 200.26470111, 204.59251597, 176.61465989,\n",
       "       221.68276141, 188.59599596, 169.32756651, 155.572612  ,\n",
       "       195.3720507 , 232.8258342 , 199.10905802, 146.30854177,\n",
       "       195.49131066, 145.26503431, 201.66975814, 199.39688933,\n",
       "       216.18129316, 173.05795972, 167.14960084, 187.84052737,\n",
       "       203.20688974, 195.49305964, 193.97422236, 201.42930638,\n",
       "       197.50663635, 181.66017392, 176.77876652, 173.42959924,\n",
       "       200.26283971, 192.99447785, 162.09448833, 177.82050262,\n",
       "       186.26880636, 134.60979298, 196.78297529, 190.68775965,\n",
       "       165.33901333, 205.3395089 , 203.57441278, 182.79222741,\n",
       "       185.30570782, 205.85289667, 186.68395954, 203.47424005,\n",
       "       177.47095463, 212.78010461, 171.77286759, 209.69595475,\n",
       "       165.08306444, 191.43760008, 196.11879981, 169.5180473 ,\n",
       "       162.56987146, 149.91790359, 192.52119803, 215.8123343 ,\n",
       "       199.02462513, 176.35240979, 203.32929531, 192.67195443,\n",
       "       204.30605898, 165.10481679, 172.93447928, 183.86178741,\n",
       "       176.71122377, 181.89948773, 195.63089103, 203.70251234,\n",
       "       183.12815998, 180.26326705, 197.35370687, 190.51670954,\n",
       "       156.14904583, 180.72382681, 192.4297569 , 189.70197238,\n",
       "       199.0861491 , 198.22064497, 185.04967206, 197.61345469,\n",
       "       180.22303438, 186.94795508, 207.56942484, 180.11678238,\n",
       "       200.1895907 , 182.90454214, 164.12642628, 194.72007606,\n",
       "       227.65146358, 183.1281971 , 200.73471133, 190.08504322,\n",
       "       181.95060671, 172.72520284, 198.37508119, 167.95794969,\n",
       "       168.01974783, 178.74935644, 211.14192661, 205.82490577,\n",
       "       183.33793601, 190.10665557, 187.36863662, 186.90758085,\n",
       "       216.15901014, 189.97792939, 224.29984359, 197.53363552,\n",
       "       217.59917374, 173.26715036, 198.61469974, 204.42428457,\n",
       "       162.54853675, 170.21233723, 176.8710136 , 186.79341815,\n",
       "       196.70876254, 173.08659764, 181.07789775, 243.4020414 ,\n",
       "       210.68475652, 177.41603849, 199.60233917, 176.32901689,\n",
       "       163.19763105, 182.6411455 , 187.66512496, 180.28926615,\n",
       "       175.24032807, 192.6964619 , 225.06474751, 164.13782092,\n",
       "       166.77382111, 174.53033787, 190.83840416, 182.51899718,\n",
       "       167.03502771, 194.98783635, 208.73911726, 183.7048136 ,\n",
       "       217.1757763 , 182.31218428, 174.55584514, 162.35797737,\n",
       "       214.49655372, 199.05383623, 164.32832097, 205.19066028,\n",
       "       161.94640805, 197.63715108, 162.27662978, 208.9539406 ,\n",
       "       162.47394617, 162.60231644, 207.14621475, 193.60926462,\n",
       "       175.57974149, 167.28622325, 180.27259868, 179.08440331,\n",
       "       181.68888864, 193.99197053, 180.19703376, 177.45303048,\n",
       "       188.56890334, 178.85210764, 200.97142675, 208.46396379,\n",
       "       188.91880641, 179.6168981 , 207.4378878 , 204.70486867,\n",
       "       129.45590992, 168.35816082, 165.10408599, 214.49734902,\n",
       "       195.18770027, 176.13879469, 165.51042864, 175.93763649,\n",
       "       194.68619618, 170.08012679, 164.40232159, 159.05191576,\n",
       "       171.17868964, 185.85033133, 158.57775311, 181.89400101,\n",
       "       173.85822654, 213.71822376, 176.14639737, 175.14523305,\n",
       "       165.06477743, 190.22087589, 219.52129568, 171.968623  ,\n",
       "       215.8422345 , 177.74880312, 170.43389142, 195.4663595 ,\n",
       "       177.05758078, 180.4197682 , 185.45943856, 159.73517796,\n",
       "       176.32500832, 182.79056648, 190.15976478, 194.49796047,\n",
       "       217.09349173, 218.38091553, 196.18446396, 206.10046961,\n",
       "       180.53671766, 173.19373963, 168.40644801, 182.5269498 ,\n",
       "       189.25735807, 203.82487506, 194.84210959, 198.29083577,\n",
       "       170.4896293 , 195.38534534, 202.89309403, 160.02479121,\n",
       "       186.77797018, 176.58076147, 175.86234023, 151.9656703 ,\n",
       "       173.12023447, 204.05249927, 192.76403561, 182.03870514,\n",
       "       144.66134103, 214.06432061, 180.37503339, 220.90990404,\n",
       "       183.84813463, 197.00014373, 171.40108149, 225.50485536,\n",
       "       194.21435504, 178.99140029, 175.45734413, 177.91270688,\n",
       "       178.87010249, 206.80475252, 225.45311597, 216.72853473,\n",
       "       182.69331728, 174.51192656, 177.20302885, 235.27364091,\n",
       "       164.53870258, 183.80734705, 208.96516604, 201.58074305,\n",
       "       194.82361519, 173.10270612, 180.3751774 , 177.52221895,\n",
       "       235.6315105 , 188.97445859, 187.77582437, 165.06930309,\n",
       "       183.93042017, 180.64592026, 213.52955179, 181.66622578,\n",
       "       161.86092539, 151.99040071, 165.14870042, 192.95002555,\n",
       "       167.94152425, 174.38687262, 199.96392184, 162.98292146,\n",
       "       222.99376743, 201.97112698, 181.91736063, 199.86550843,\n",
       "       172.39230645, 187.080715  , 191.4943877 , 181.89532379,\n",
       "       205.58266667, 182.34800411, 202.47400023, 211.38023979,\n",
       "       187.40560109, 192.13351979, 171.41997328, 155.63173436,\n",
       "       175.69089313, 210.07488449, 202.04289545, 184.70800354,\n",
       "       169.43496644, 214.21247326, 201.39251751, 181.45284422,\n",
       "       203.91969588, 180.44736397, 189.01722766, 208.18266221,\n",
       "       180.84568162, 168.59234104, 214.34719654, 182.40126961,\n",
       "       216.0034716 , 179.66932161, 188.74028559, 175.5676762 ,\n",
       "       167.4310498 , 204.50954231, 188.83854882, 177.76910167,\n",
       "       162.26109601, 180.89839107, 201.68487056, 208.57023046,\n",
       "       191.31973855, 181.15204077, 184.39132952, 195.36615646,\n",
       "       181.32343461, 187.86247053, 179.61133644, 204.84746796,\n",
       "       190.90033243, 175.50019206, 186.84297994, 196.69519013,\n",
       "       213.44939673, 184.98196401, 193.45087569, 159.03313823,\n",
       "       204.08912191, 160.18381897, 206.6066865 , 182.64470042,\n",
       "       232.28373548, 171.12253644, 169.52239372, 159.69866825,\n",
       "       190.23706401, 181.6973304 , 182.67461566, 175.81936522,\n",
       "       180.58538935, 180.25363702, 180.4769965 , 188.49843318,\n",
       "       186.4422482 , 195.48085066, 202.96737278, 197.19816399,\n",
       "       188.15987321, 208.09088742, 194.80918322, 171.27836411,\n",
       "       173.28637311, 187.10061378, 156.12139699, 178.01581574,\n",
       "       209.94677728, 204.05648968, 197.03844839, 180.53687925,\n",
       "       180.34069533, 166.07945394, 193.52606942, 173.99317017,\n",
       "       207.50489263, 171.08434503, 183.62073785, 163.67585076,\n",
       "       186.15043357, 208.74310117, 162.08768182, 172.02965362,\n",
       "       189.39081429, 163.24152148, 180.94260539, 185.897361  ,\n",
       "       190.20099085, 198.76663118, 172.69631524, 179.73061858,\n",
       "       190.25046039, 182.97151231, 204.50575617, 205.03592145,\n",
       "       191.26393842, 197.73042282, 158.69183233, 201.54560663,\n",
       "       155.76521384, 203.0470853 , 173.53354298, 186.14857983,\n",
       "       178.3919546 , 193.68800469, 188.9676297 , 201.62277257,\n",
       "       173.34765175, 194.58630344, 200.60457176, 197.91059978,\n",
       "       190.71633541, 152.70029761, 190.74079346, 198.48334079,\n",
       "       189.4385851 , 205.77805257, 194.86553167, 228.01554953,\n",
       "       192.03864915, 216.70639804, 184.42970632, 180.57221165,\n",
       "       203.05338488, 187.07130709, 185.55494683, 180.24419169,\n",
       "       188.47321144, 190.26201978, 186.68087609, 174.45882993,\n",
       "       167.87880851, 178.42345151, 155.33854076, 166.90034535,\n",
       "       194.92442856, 180.64648562, 191.5643471 , 176.39405072,\n",
       "       186.45260876, 205.55236424, 194.51558467, 199.66332127,\n",
       "       181.72252859, 183.6044026 , 198.70140625, 209.85904772,\n",
       "       193.73534045, 202.08336375, 184.08845664, 195.06365928,\n",
       "       176.39282487, 201.34418206, 172.4778251 , 184.45270985,\n",
       "       204.54080221, 195.34794886, 210.07855775, 182.09800672,\n",
       "       172.65933364, 218.77934036, 194.52786203, 164.75860979,\n",
       "       214.88247515, 192.17423069, 171.99246363, 166.18140559,\n",
       "       182.52208102, 195.70560743, 207.40352299, 190.03700484,\n",
       "       179.5991935 , 192.648137  , 165.65250039, 162.89936373,\n",
       "       202.90454489, 173.58224478, 176.46637602, 178.97947312,\n",
       "       172.45934312, 202.47585676, 194.79634658, 171.2744473 ,\n",
       "       186.5185872 , 184.94617875, 202.36911053, 189.80253728,\n",
       "       187.39250056, 195.28078081, 193.4385594 , 153.45216545,\n",
       "       185.11729259, 188.38563304, 200.01572785, 192.40528635,\n",
       "       189.52278348, 187.43489455, 198.4185583 , 186.96218074,\n",
       "       185.65179327, 149.23781028, 199.34820648, 178.19761291,\n",
       "       182.5713855 , 180.67373784, 160.55668877, 190.81904244,\n",
       "       164.39571038, 190.02834012, 167.15834197, 219.1551502 ,\n",
       "       187.47311694, 235.07349094, 172.06022327, 176.64845987,\n",
       "       176.76716776, 159.23037127, 195.09208577, 162.89795641,\n",
       "       200.98087706, 213.20557827, 202.57761955, 195.13900778,\n",
       "       171.7787393 , 160.31896228, 207.38395292, 186.06298486,\n",
       "       190.50562668, 191.05823737, 228.86141632, 176.33646527,\n",
       "       190.35038603, 200.73867204, 183.28697184, 164.70072059,\n",
       "       181.94517534, 158.47338719, 157.58780648, 202.50887799,\n",
       "       187.05672792, 164.96702945, 166.37314217, 210.42508555,\n",
       "       168.07768367, 178.85652911, 202.65656695, 211.51607376,\n",
       "       197.18471193, 192.77708633, 208.5062499 , 185.5398835 ,\n",
       "       218.79201234, 147.66700043, 189.60600545, 180.29870253,\n",
       "       176.37060792, 190.52002218, 155.5527816 , 186.00282801,\n",
       "       195.71570314, 175.97884637, 188.52545598, 181.59047803,\n",
       "       195.79165687, 191.43487276, 196.05015754, 207.10940705,\n",
       "       202.71321863, 203.04326189, 168.58023407, 205.73007708,\n",
       "       161.21662488, 188.62970805, 152.2427484 , 204.54386323,\n",
       "       200.96709204, 184.16270392, 198.19996417, 192.24560846,\n",
       "       156.81698076, 171.2729184 , 200.44773503, 184.15792963,\n",
       "       216.59237949, 208.01162502, 165.74747916, 174.97670649,\n",
       "       200.04602053, 196.88855335, 181.21685808, 205.72161439,\n",
       "       159.63578199, 195.13110023, 182.60506808, 196.05635333,\n",
       "       184.3246395 , 219.12999278, 182.2862716 , 206.65748008,\n",
       "       197.58596025, 203.36899808, 191.48388486, 163.72501603,\n",
       "       180.35146441, 204.65628171, 201.24942853, 169.46137379,\n",
       "       201.32098563, 176.30463062, 190.42891083, 168.69879916,\n",
       "       189.61122617, 192.95250013, 186.92430817, 163.62172415,\n",
       "       202.11313671, 195.42887865, 197.14165839, 177.30437014,\n",
       "       189.65049442, 189.21253931, 163.48122143, 190.09260173,\n",
       "       212.95199383, 164.88417276, 218.84069377, 172.41687455,\n",
       "       168.47613274, 200.58500282, 178.4797095 , 183.00824114,\n",
       "       198.6463232 , 151.12757201, 196.19521227, 196.71338612,\n",
       "       180.37764012, 210.56496794, 186.55024271, 192.55751929,\n",
       "       173.42079913, 213.79623224, 168.03225108, 201.3211175 ,\n",
       "       190.36339298, 205.40571305, 186.28180506, 164.35407633,\n",
       "       175.18755935, 186.44128484, 161.83914864, 196.24141813,\n",
       "       205.27460142, 181.29422894, 164.470234  , 170.39579655,\n",
       "       187.51128558, 179.62816884, 181.33607581, 198.67867464,\n",
       "       191.7373527 , 180.86502038, 183.65459814, 218.20340723,\n",
       "       203.38236656, 167.77033696, 197.59153682, 199.17419653,\n",
       "       201.14695605, 216.83420344, 184.84734582, 152.16577924,\n",
       "       161.39768936, 195.54423714, 196.77824708, 167.95460549,\n",
       "       206.2902934 , 218.00588416, 186.38659649, 184.00554241,\n",
       "       183.44795673, 178.83664653, 203.57141682, 167.82549525,\n",
       "       208.95272668, 188.04204121, 185.04060651, 187.35349528,\n",
       "       185.66242287, 196.93325422, 184.55901844, 177.32520013,\n",
       "       195.72218808, 214.18456161, 216.67705269, 179.81804613,\n",
       "       167.5238328 , 171.31148719, 191.41915911, 194.27941286,\n",
       "       168.85877629, 214.60699835, 154.00776168, 200.63459052,\n",
       "       187.95151908, 194.37656074, 199.05435445, 177.30995437,\n",
       "       217.35960566, 173.79608926, 176.30934079, 167.05870576,\n",
       "       177.17983568, 176.69186196, 233.87618875, 192.70468898,\n",
       "       193.29908697, 179.98230339, 156.91330576, 186.31773684,\n",
       "       184.47061918, 206.27476054, 206.1966082 , 197.76275168,\n",
       "       191.75188343, 161.34995677, 146.10658476, 186.28367472,\n",
       "       185.53314864, 184.66882654, 181.75442048, 202.63673697,\n",
       "       164.79730784, 231.69673145, 180.92753728, 191.4061859 ,\n",
       "       202.98535717, 174.08428274, 186.39889645, 185.42899001,\n",
       "       184.54410202, 163.21595579, 179.42812555, 196.92018526,\n",
       "       170.62207061, 175.14567978, 208.78092458, 163.35492019,\n",
       "       215.09412542, 170.08331095, 198.10721218, 198.52598005,\n",
       "       173.48270225, 167.61023053, 166.13180097, 193.81538099,\n",
       "       185.87948597, 173.7360346 , 199.86047032, 180.70571703,\n",
       "       168.2038337 , 222.93048807, 151.79724714, 178.97360102,\n",
       "       180.33900104, 167.43572067, 162.50432344, 179.1182829 ,\n",
       "       195.83021878, 186.94295698, 187.21290672, 206.45664816,\n",
       "       198.30113865, 174.81614307, 179.59544251, 181.79664033,\n",
       "       179.45267108, 212.15313874, 197.65678692, 174.10753886,\n",
       "       182.2123148 , 194.32050812, 205.87149558, 176.00715955,\n",
       "       191.08851852, 181.76659938, 174.8178273 , 182.47112345,\n",
       "       167.34787067, 176.31367892, 176.03596206, 187.83606425,\n",
       "       178.54571272, 205.82740871, 182.59961151, 181.0737695 ,\n",
       "       195.47589671, 214.85135205, 228.3824035 , 171.86880109,\n",
       "       220.54148468, 180.99721125, 205.00401004, 174.77803545,\n",
       "       195.68519993, 167.7180617 , 188.10237297, 198.00093948,\n",
       "       205.52461038, 203.1987259 , 189.66177542, 172.75220388,\n",
       "       189.4784719 , 179.03536712, 188.85093455, 148.60271966,\n",
       "       212.812843  , 174.08887033, 178.2944764 , 188.66581508,\n",
       "       177.8625805 , 179.57620054, 197.61775463, 155.79533537,\n",
       "       188.99936094, 191.40406688, 171.61961048, 177.50841106,\n",
       "       191.18107995, 194.33380101, 163.70604267, 189.11515383,\n",
       "       219.08082682, 170.49847932, 170.93419106, 212.48039297,\n",
       "       201.00389379, 186.93623842, 143.87534621, 173.73748807,\n",
       "       183.1249903 , 198.54584939, 218.1199922 , 203.53316019,\n",
       "       189.63757329, 194.54277216, 214.01667969, 209.18330258,\n",
       "       159.94249614, 189.03631762, 189.56025459, 143.7451397 ,\n",
       "       184.56230064, 170.61662388, 183.10449927, 173.03203576,\n",
       "       189.56918216, 184.98697306, 181.1403808 , 144.95835076,\n",
       "       197.65900419, 197.53785425, 187.16058611, 192.68041374,\n",
       "       191.49765126, 191.01811836, 202.51431969, 141.93483826,\n",
       "       174.21119298, 189.73876607, 195.50196681, 188.27668055,\n",
       "       175.48874823, 218.6667847 , 175.05989349, 168.53578078,\n",
       "       183.25661844, 151.63336567, 181.37265066, 197.42572362,\n",
       "       190.20251955, 175.14863044, 208.86739029, 246.60692538,\n",
       "       163.73329186, 191.23928638, 169.30614051, 183.65627417,\n",
       "       192.08723668, 211.5135245 , 184.04559738, 157.44056823,\n",
       "       188.1551314 , 169.78513127, 183.32086452, 188.6597246 ,\n",
       "       192.72926841, 165.2602239 , 201.34069621, 205.16922841,\n",
       "       200.667391  , 179.26886632, 164.71966576, 186.9596587 ,\n",
       "       172.62338319, 186.86941511, 191.74768583, 166.59474083,\n",
       "       161.76097417, 189.85419302, 174.99416915, 183.22244991,\n",
       "       181.90230242, 175.45269121, 205.41232069, 181.99914668])"
      ]
     },
     "execution_count": 28,
     "metadata": {},
     "output_type": "execute_result"
    }
   ],
   "source": [
    "y_pred"
   ]
  },
  {
   "cell_type": "code",
   "execution_count": 31,
   "metadata": {},
   "outputs": [
    {
     "data": {
      "text/plain": [
       "[<matplotlib.lines.Line2D at 0x217c1f86d30>]"
      ]
     },
     "execution_count": 31,
     "metadata": {},
     "output_type": "execute_result"
    },
    {
     "data": {
      "image/png": "[encoded data removed]",
      "text/plain": [
       "<Figure size 432x288 with 1 Axes>"
      ]
     },
     "metadata": {
      "needs_background": "light"
     },
     "output_type": "display_data"
    }
   ],
   "source": [
    "import matplotlib.pyplot as plt\n",
    "plt.scatter(x_train, y_train, color = 'blue')\n",
    "plt.plot(x_train, linear.predict(x_train), color = 'yellow')"
   ]
  },
  {
   "cell_type": "code",
   "execution_count": 34,
   "metadata": {},
   "outputs": [
    {
     "data": {
      "text/plain": [
       "array([204.8133738])"
      ]
     },
     "execution_count": 34,
     "metadata": {},
     "output_type": "execute_result"
    }
   ],
   "source": [
    "a = np.array([72])\n",
    "a = a.reshape(-1,1)\n",
    "linear.predict(a)"
   ]
  },
  {
   "cell_type": "code",
   "execution_count": 35,
   "metadata": {},
   "outputs": [
    {
     "data": {
      "text/plain": [
       "0.7355452464224881"
      ]
     },
     "execution_count": 35,
     "metadata": {},
     "output_type": "execute_result"
    }
   ],
   "source": [
    "acc = linear.score(x_test, y_test)\n",
    "acc"
   ]
  },
  {
   "cell_type": "code",
   "execution_count": null,
   "metadata": {},
   "outputs": [],
   "source": []
  }
 ],
 "metadata": {
  "kernelspec": {
   "display_name": "Python 3",
   "language": "python",
   "name": "python3"
  },
  "language_info": {
   "codemirror_mode": {
    "name": "ipython",
    "version": 3
   },
   "file_extension": ".py",
   "mimetype": "text/x-python",
   "name": "python",
   "nbconvert_exporter": "python",
   "pygments_lexer": "ipython3",
   "version": "3.8.5"
  }
 },
 "nbformat": 4,
 "nbformat_minor": 4
}
